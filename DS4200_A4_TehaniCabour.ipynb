{
 "cells": [
  {
   "cell_type": "markdown",
   "id": "44f27131",
   "metadata": {},
   "source": [
    "## DS4200 A4 Tehani Cabour"
   ]
  },
  {
   "cell_type": "code",
   "execution_count": 2,
   "id": "7627f3f5",
   "metadata": {},
   "outputs": [],
   "source": [
    "#Imports:\n",
    "#pip install altair vega_datasets\n",
    "\n",
    "\n",
    "import numpy as np\n",
    "import altair as alt\n",
    "import pandas as pd\n",
    "import matplotlib.pyplot as plt"
   ]
  },
  {
   "cell_type": "markdown",
   "id": "31d8d7f1",
   "metadata": {},
   "source": [
    "# Part 1"
   ]
  },
  {
   "cell_type": "code",
   "execution_count": 3,
   "id": "ba561219",
   "metadata": {},
   "outputs": [
    {
     "data": {
      "image/png": "[encoded data removed]",
      "text/plain": [
       "<Figure size 432x288 with 1 Axes>"
      ]
     },
     "metadata": {
      "needs_background": "light"
     },
     "output_type": "display_data"
    }
   ],
   "source": [
    "# create data\n",
    "values=np.random.uniform(size=20)\n",
    " \n",
    "# change color and shape and size and edges\n",
    "(markers, stemlines, baseline) = plt.stem(values)\n",
    "plt.setp(markers, marker='D', markersize=10, markeredgecolor=\"black\", markeredgewidth=2)\n",
    "plt.show()"
   ]
  },
  {
   "cell_type": "markdown",
   "id": "7f4cda02",
   "metadata": {},
   "source": [
    "This lollipop plot type is interesting to me as it retains the demonstrative elements of a classic bar charts, as well as a similar simplicity. However, it is capable of making a message behind a lot more visually striking and clear to the viewer by playing around with either the shape/color of the tip, or repositioning/recoloring the base line."
   ]
  },
  {
   "cell_type": "markdown",
   "id": "43858b12",
   "metadata": {},
   "source": [
    "# Part 3:"
   ]
  },
  {
   "cell_type": "code",
   "execution_count": 4,
   "id": "c7462ca1",
   "metadata": {},
   "outputs": [],
   "source": [
    "df3 = pd.read_csv('table3.csv') # make dataframe with table 3 data"
   ]
  },
  {
   "cell_type": "code",
   "execution_count": 5,
   "id": "9a668b23",
   "metadata": {},
   "outputs": [],
   "source": [
    "df5 = pd.read_csv('table5.csv') # make dataframe with table 5 data"
   ]
  },
  {
   "cell_type": "code",
   "execution_count": 6,
   "id": "ae256152",
   "metadata": {},
   "outputs": [],
   "source": [
    "df6 = pd.read_csv('table6.csv') # make dataframe with table 6 data"
   ]
  },
  {
   "cell_type": "code",
   "execution_count": 7,
   "id": "63d3baa4",
   "metadata": {},
   "outputs": [
    {
     "data": {
      "text/html": [
       "\n",
       "<div id=\"altair-viz-40eb3087029745298dfd6d6e8537ddf5\"></div>\n",
       "<script type=\"text/javascript\">\n",
       "  var VEGA_DEBUG = (typeof VEGA_DEBUG == \"undefined\") ? {} : VEGA_DEBUG;\n",
       "  (function(spec, embedOpt){\n",
       "    let outputDiv = document.currentScript.previousElementSibling;\n",
       "    if (outputDiv.id !== \"altair-viz-40eb3087029745298dfd6d6e8537ddf5\") {\n",
       "      outputDiv = document.getElementById(\"altair-viz-40eb3087029745298dfd6d6e8537ddf5\");\n",
       "    }\n",
       "    const paths = {\n",
       "      \"vega\": \"https://cdn.jsdelivr.net/npm//vega@5?noext\",\n",
       "      \"vega-lib\": \"https://cdn.jsdelivr.net/npm//vega-lib?noext\",\n",
       "      \"vega-lite\": \"https://cdn.jsdelivr.net/npm//vega-lite@4.17.0?noext\",\n",
       "      \"vega-embed\": \"https://cdn.jsdelivr.net/npm//vega-embed@6?noext\",\n",
       "    };\n",
       "\n",
       "    function maybeLoadScript(lib, version) {\n",
       "      var key = `${lib.replace(\"-\", \"\")}_version`;\n",
       "      return (VEGA_DEBUG[key] == version) ?\n",
       "        Promise.resolve(paths[lib]) :\n",
       "        new Promise(function(resolve, reject) {\n",
       "          var s = document.createElement('script');\n",
       "          document.getElementsByTagName(\"head\")[0].appendChild(s);\n",
       "          s.async = true;\n",
       "          s.onload = () => {\n",
       "            VEGA_DEBUG[key] = version;\n",
       "            return resolve(paths[lib]);\n",
       "          };\n",
       "          s.onerror = () => reject(`Error loading script: ${paths[lib]}`);\n",
       "          s.src = paths[lib];\n",
       "        });\n",
       "    }\n",
       "\n",
       "    function showError(err) {\n",
       "      outputDiv.innerHTML = `<div class=\"error\" style=\"color:red;\">${err}</div>`;\n",
       "      throw err;\n",
       "    }\n",
       "\n",
       "    function displayChart(vegaEmbed) {\n",
       "      vegaEmbed(outputDiv, spec, embedOpt)\n",
       "        .catch(err => showError(`Javascript Error: ${err.message}<br>This usually means there's a typo in your chart specification. See the javascript console for the full traceback.`));\n",
       "    }\n",
       "\n",
       "    if(typeof define === \"function\" && define.amd) {\n",
       "      requirejs.config({paths});\n",
       "      require([\"vega-embed\"], displayChart, err => showError(`Error loading script: ${err.message}`));\n",
       "    } else {\n",
       "      maybeLoadScript(\"vega\", \"5\")\n",
       "        .then(() => maybeLoadScript(\"vega-lite\", \"4.17.0\"))\n",
       "        .then(() => maybeLoadScript(\"vega-embed\", \"6\"))\n",
       "        .catch(showError)\n",
       "        .then(() => displayChart(vegaEmbed));\n",
       "    }\n",
       "  })({\"config\": {\"view\": {\"continuousWidth\": 400, \"continuousHeight\": 300}}, \"data\": {\"name\": \"data-8b510f612fbac494faf7335bbc8e6bbe\"}, \"mark\": \"bar\", \"encoding\": {\"color\": {\"field\": \"Land cover types\", \"type\": \"nominal\"}, \"column\": {\"field\": \"Level\", \"type\": \"nominal\"}, \"x\": {\"field\": \"Land cover types\", \"type\": \"nominal\"}, \"y\": {\"field\": \"Value\", \"type\": \"quantitative\"}}, \"title\": \"Land Cover Areas in Boston by different levels\", \"$schema\": \"https://vega.github.io/schema/vega-lite/v4.17.0.json\", \"datasets\": {\"data-8b510f612fbac494faf7335bbc8e6bbe\": [{\"Land cover types\": \"NWI marine wetlands\", \"Level\": \"Low\", \"Value\": 90367611}, {\"Land cover types\": \"Salt marsh\", \"Level\": \"Low\", \"Value\": 5836741}, {\"Land cover types\": \"Freshwater wetland\", \"Level\": \"Low\", \"Value\": 7416748}, {\"Land cover types\": \"City parks\", \"Level\": \"Low\", \"Value\": 249158682}, {\"Land cover types\": \"Beach\", \"Level\": \"Low\", \"Value\": 1748766}, {\"Land cover types\": \"Freshwater\", \"Level\": \"Low\", \"Value\": 5632155}, {\"Land cover types\": \"Oyster bed\", \"Level\": \"Low\", \"Value\": 609367}, {\"Land cover types\": \"Estuary\", \"Level\": \"Low\", \"Value\": 1775730}, {\"Land cover types\": \"Tidal flat\", \"Level\": \"Low\", \"Value\": 154979}, {\"Land cover types\": \"Forest\", \"Level\": \"Low\", \"Value\": 232570496}, {\"Land cover types\": \"Grassland/Openland\", \"Level\": \"Low\", \"Value\": 5588362}, {\"Land cover types\": \"Core habitats\", \"Level\": \"Low\", \"Value\": 2566369}, {\"Land cover types\": \"Coastal waters\", \"Level\": \"Low\", \"Value\": 101783372}, {\"Land cover types\": \"Total\", \"Level\": \"Low\", \"Value\": 705209378}, {\"Land cover types\": \"NWI marine wetlands\", \"Level\": \"High\", \"Value\": 596715671}, {\"Land cover types\": \"Salt marsh\", \"Level\": \"High\", \"Value\": 38541188}, {\"Land cover types\": \"Freshwater wetland\", \"Level\": \"High\", \"Value\": 12222223}, {\"Land cover types\": \"City parks\", \"Level\": \"High\", \"Value\": 498317363}, {\"Land cover types\": \"Beach\", \"Level\": \"High\", \"Value\": 7527883}, {\"Land cover types\": \"Freshwater\", \"Level\": \"High\", \"Value\": 36077699}, {\"Land cover types\": \"Oyster bed\", \"Level\": \"High\", \"Value\": 5499626}, {\"Land cover types\": \"Estuary\", \"Level\": \"High\", \"Value\": 3826203}, {\"Land cover types\": \"Tidal flat\", \"Level\": \"High\", \"Value\": 258298}, {\"Land cover types\": \"Forest\", \"Level\": \"High\", \"Value\": 748950958}, {\"Land cover types\": \"Grassland/Openland\", \"Level\": \"High\", \"Value\": 9447291}, {\"Land cover types\": \"Core habitats\", \"Level\": \"High\", \"Value\": 12831846}, {\"Land cover types\": \"Coastal waters\", \"Level\": \"High\", \"Value\": 157984654}, {\"Land cover types\": \"Total\", \"Level\": \"High\", \"Value\": 2128200903}]}}, {\"mode\": \"vega-lite\"});\n",
       "</script>"
      ],
      "text/plain": [
       "alt.Chart(...)"
      ]
     },
     "execution_count": 7,
     "metadata": {},
     "output_type": "execute_result"
    }
   ],
   "source": [
    "#Land Cover Areas in Boston by different levels\n",
    "#Chart 5\n",
    "\n",
    "alt.Chart(df5).mark_bar().encode(\n",
    "    x='Land cover types',\n",
    "    y='Value',\n",
    "    color='Land cover types',\n",
    "    column='Level'\n",
    ").properties(\n",
    "    title='Land Cover Areas in Boston by different levels'\n",
    ")"
   ]
  },
  {
   "cell_type": "markdown",
   "id": "ff331247",
   "metadata": {},
   "source": [
    "Chart 5 Summary:\n",
    "This chart uses color and position to demonstrate land cover types, bar length to demonstrate value, and position to demonstrate level (high/low). As can be seen in the chart, high level econsystems have higher values than their low level counterparts. "
   ]
  },
  {
   "cell_type": "code",
   "execution_count": 8,
   "id": "b70e04c7",
   "metadata": {},
   "outputs": [
    {
     "data": {
      "text/html": [
       "\n",
       "<div id=\"altair-viz-96b63d62cc384fb28e61caded646bdf5\"></div>\n",
       "<script type=\"text/javascript\">\n",
       "  var VEGA_DEBUG = (typeof VEGA_DEBUG == \"undefined\") ? {} : VEGA_DEBUG;\n",
       "  (function(spec, embedOpt){\n",
       "    let outputDiv = document.currentScript.previousElementSibling;\n",
       "    if (outputDiv.id !== \"altair-viz-96b63d62cc384fb28e61caded646bdf5\") {\n",
       "      outputDiv = document.getElementById(\"altair-viz-96b63d62cc384fb28e61caded646bdf5\");\n",
       "    }\n",
       "    const paths = {\n",
       "      \"vega\": \"https://cdn.jsdelivr.net/npm//vega@5?noext\",\n",
       "      \"vega-lib\": \"https://cdn.jsdelivr.net/npm//vega-lib?noext\",\n",
       "      \"vega-lite\": \"https://cdn.jsdelivr.net/npm//vega-lite@4.17.0?noext\",\n",
       "      \"vega-embed\": \"https://cdn.jsdelivr.net/npm//vega-embed@6?noext\",\n",
       "    };\n",
       "\n",
       "    function maybeLoadScript(lib, version) {\n",
       "      var key = `${lib.replace(\"-\", \"\")}_version`;\n",
       "      return (VEGA_DEBUG[key] == version) ?\n",
       "        Promise.resolve(paths[lib]) :\n",
       "        new Promise(function(resolve, reject) {\n",
       "          var s = document.createElement('script');\n",
       "          document.getElementsByTagName(\"head\")[0].appendChild(s);\n",
       "          s.async = true;\n",
       "          s.onload = () => {\n",
       "            VEGA_DEBUG[key] = version;\n",
       "            return resolve(paths[lib]);\n",
       "          };\n",
       "          s.onerror = () => reject(`Error loading script: ${paths[lib]}`);\n",
       "          s.src = paths[lib];\n",
       "        });\n",
       "    }\n",
       "\n",
       "    function showError(err) {\n",
       "      outputDiv.innerHTML = `<div class=\"error\" style=\"color:red;\">${err}</div>`;\n",
       "      throw err;\n",
       "    }\n",
       "\n",
       "    function displayChart(vegaEmbed) {\n",
       "      vegaEmbed(outputDiv, spec, embedOpt)\n",
       "        .catch(err => showError(`Javascript Error: ${err.message}<br>This usually means there's a typo in your chart specification. See the javascript console for the full traceback.`));\n",
       "    }\n",
       "\n",
       "    if(typeof define === \"function\" && define.amd) {\n",
       "      requirejs.config({paths});\n",
       "      require([\"vega-embed\"], displayChart, err => showError(`Error loading script: ${err.message}`));\n",
       "    } else {\n",
       "      maybeLoadScript(\"vega\", \"5\")\n",
       "        .then(() => maybeLoadScript(\"vega-lite\", \"4.17.0\"))\n",
       "        .then(() => maybeLoadScript(\"vega-embed\", \"6\"))\n",
       "        .catch(showError)\n",
       "        .then(() => displayChart(vegaEmbed));\n",
       "    }\n",
       "  })({\"config\": {\"view\": {\"continuousWidth\": 400, \"continuousHeight\": 300}}, \"data\": {\"name\": \"data-ada309f7a08a96de0efd801acb5584e3\"}, \"mark\": \"bar\", \"encoding\": {\"color\": {\"field\": \"Land cover types\", \"type\": \"nominal\"}, \"column\": {\"field\": \"Location\", \"type\": \"nominal\"}, \"x\": {\"field\": \"Land cover types\", \"type\": \"nominal\"}, \"y\": {\"field\": \"Area\", \"type\": \"quantitative\"}}, \"title\": \"Land cover areas (acres) at MHHW by watershed.\", \"$schema\": \"https://vega.github.io/schema/vega-lite/v4.17.0.json\", \"datasets\": {\"data-ada309f7a08a96de0efd801acb5584e3\": [{\"Land cover types\": \"NWI marine wetlands\", \"Location\": \"Mystic\", \"Area\": 1298.8}, {\"Land cover types\": \"Salt marsh\", \"Location\": \"Mystic\", \"Area\": 46.8}, {\"Land cover types\": \"Freshwater Wetland\", \"Location\": \"Mystic\", \"Area\": 94.3}, {\"Land cover types\": \"City parks\", \"Location\": \"Mystic\", \"Area\": 1214.7}, {\"Land cover types\": \"Beach\", \"Location\": \"Mystic\", \"Area\": 35.25}, {\"Land cover types\": \"Freshwater\", \"Location\": \"Mystic\", \"Area\": 786.24}, {\"Land cover types\": \"Oyster bed\", \"Location\": \"Mystic\", \"Area\": 0.0}, {\"Land cover types\": \"Estuary\", \"Location\": \"Mystic\", \"Area\": 86.48}, {\"Land cover types\": \"Tidal flat\", \"Location\": \"Mystic\", \"Area\": 6.68}, {\"Land cover types\": \"Forest\", \"Location\": \"Mystic\", \"Area\": 4574.3}, {\"Land cover types\": \"Grassland/Openland\", \"Location\": \"Mystic\", \"Area\": 491.03}, {\"Land cover types\": \"Core habitats\", \"Location\": \"Mystic\", \"Area\": 1822.92}, {\"Land cover types\": \"Coastal waters\", \"Location\": \"Mystic\", \"Area\": 5985.33}, {\"Land cover types\": \"NWI marine wetlands\", \"Location\": \"Charles and neponset\", \"Area\": 671.41}, {\"Land cover types\": \"Salt marsh\", \"Location\": \"Charles and neponset\", \"Area\": 108.44}, {\"Land cover types\": \"Freshwater Wetland\", \"Location\": \"Charles and neponset\", \"Area\": 40.8}, {\"Land cover types\": \"City parks\", \"Location\": \"Charles and neponset\", \"Area\": 4217.98}, {\"Land cover types\": \"Beach\", \"Location\": \"Charles and neponset\", \"Area\": 40.54}, {\"Land cover types\": \"Freshwater\", \"Location\": \"Charles and neponset\", \"Area\": 752.14}, {\"Land cover types\": \"Oyster bed\", \"Location\": \"Charles and neponset\", \"Area\": 0.0}, {\"Land cover types\": \"Estuary\", \"Location\": \"Charles and neponset\", \"Area\": 115.2}, {\"Land cover types\": \"Tidal flat\", \"Location\": \"Charles and neponset\", \"Area\": 5.6}, {\"Land cover types\": \"Forest\", \"Location\": \"Charles and neponset\", \"Area\": 54864.48}, {\"Land cover types\": \"Grassland/Openland\", \"Location\": \"Charles and neponset\", \"Area\": 1631.93}, {\"Land cover types\": \"Core habitats\", \"Location\": \"Charles and neponset\", \"Area\": 18031.26}, {\"Land cover types\": \"Coastal waters\", \"Location\": \"Charles and neponset\", \"Area\": 2800.69}, {\"Land cover types\": \"NWI marine wetlands\", \"Location\": \"Weir\", \"Area\": 3990.23}, {\"Land cover types\": \"Salt marsh\", \"Location\": \"Weir\", \"Area\": 255.73}, {\"Land cover types\": \"Freshwater Wetland\", \"Location\": \"Weir\", \"Area\": 99.92}, {\"Land cover types\": \"City parks\", \"Location\": \"Weir\", \"Area\": 790.6}, {\"Land cover types\": \"Beach\", \"Location\": \"Weir\", \"Area\": 137.04}, {\"Land cover types\": \"Freshwater\", \"Location\": \"Weir\", \"Area\": 33.22}, {\"Land cover types\": \"Oyster bed\", \"Location\": \"Weir\", \"Area\": 104.69}, {\"Land cover types\": \"Estuary\", \"Location\": \"Weir\", \"Area\": 113.75}, {\"Land cover types\": \"Tidal flat\", \"Location\": \"Weir\", \"Area\": 10.0}, {\"Land cover types\": \"Forest\", \"Location\": \"Weir\", \"Area\": 5793.51}, {\"Land cover types\": \"Grassland/Openland\", \"Location\": \"Weir\", \"Area\": 522.45}, {\"Land cover types\": \"Core habitats\", \"Location\": \"Weir\", \"Area\": 5736.91}, {\"Land cover types\": \"Coastal waters\", \"Location\": \"Weir\", \"Area\": 10167.73}, {\"Land cover types\": \"NWI marine wetlands\", \"Location\": \"Islands\", \"Area\": 583.86}, {\"Land cover types\": \"Salt marsh\", \"Location\": \"Islands\", \"Area\": 11.72}, {\"Land cover types\": \"Freshwater Wetland\", \"Location\": \"Islands\", \"Area\": 11.18}, {\"Land cover types\": \"City parks\", \"Location\": \"Islands\", \"Area\": 5.69}, {\"Land cover types\": \"Beach\", \"Location\": \"Islands\", \"Area\": 0.34}, {\"Land cover types\": \"Freshwater\", \"Location\": \"Islands\", \"Area\": 0.0}, {\"Land cover types\": \"Oyster bed\", \"Location\": \"Islands\", \"Area\": 0.0}, {\"Land cover types\": \"Estuary\", \"Location\": \"Islands\", \"Area\": 0.0}, {\"Land cover types\": \"Tidal flat\", \"Location\": \"Islands\", \"Area\": 5.6}, {\"Land cover types\": \"Forest\", \"Location\": \"Islands\", \"Area\": 198.98}, {\"Land cover types\": \"Grassland/Openland\", \"Location\": \"Islands\", \"Area\": 73.9}, {\"Land cover types\": \"Core habitats\", \"Location\": \"Islands\", \"Area\": 72.6}, {\"Land cover types\": \"Coastal waters\", \"Location\": \"Islands\", \"Area\": 9109.77}]}}, {\"mode\": \"vega-lite\"});\n",
       "</script>"
      ],
      "text/plain": [
       "alt.Chart(...)"
      ]
     },
     "execution_count": 8,
     "metadata": {},
     "output_type": "execute_result"
    }
   ],
   "source": [
    "#Land cover areas (acres) at MHHW by watershed.\n",
    "#Chart 3\n",
    "\n",
    "alt.Chart(df3).mark_bar().encode(\n",
    "    x='Land cover types',\n",
    "    y='Area',\n",
    "    color='Land cover types',\n",
    "    column='Location'\n",
    ").properties(\n",
    "    title='Land cover areas (acres) at MHHW by watershed.'\n",
    ")"
   ]
  },
  {
   "cell_type": "markdown",
   "id": "4641b1c7",
   "metadata": {},
   "source": [
    "Chart 3 Summary:\n",
    "This chart uses color and position to demonstrate land cover types, bar length to demonstrate area, and position to demonstrate location. As can be seen in the chart, charles/neponset lands have significantly higher forest and core habitat areas. Another observation worth making is how Coastal Waters maintains a relatively consistent area in every location (ranging between 2800 and 10000), while other land cover types either greatly fluctuate (ie forest), or remain quasi-absent no matter the location (ie Tidal flat)."
   ]
  },
  {
   "cell_type": "code",
   "execution_count": 9,
   "id": "01556457",
   "metadata": {},
   "outputs": [
    {
     "data": {
      "text/html": [
       "\n",
       "<div id=\"altair-viz-9ddc3710036145808f9a1ce813142e0d\"></div>\n",
       "<script type=\"text/javascript\">\n",
       "  var VEGA_DEBUG = (typeof VEGA_DEBUG == \"undefined\") ? {} : VEGA_DEBUG;\n",
       "  (function(spec, embedOpt){\n",
       "    let outputDiv = document.currentScript.previousElementSibling;\n",
       "    if (outputDiv.id !== \"altair-viz-9ddc3710036145808f9a1ce813142e0d\") {\n",
       "      outputDiv = document.getElementById(\"altair-viz-9ddc3710036145808f9a1ce813142e0d\");\n",
       "    }\n",
       "    const paths = {\n",
       "      \"vega\": \"https://cdn.jsdelivr.net/npm//vega@5?noext\",\n",
       "      \"vega-lib\": \"https://cdn.jsdelivr.net/npm//vega-lib?noext\",\n",
       "      \"vega-lite\": \"https://cdn.jsdelivr.net/npm//vega-lite@4.17.0?noext\",\n",
       "      \"vega-embed\": \"https://cdn.jsdelivr.net/npm//vega-embed@6?noext\",\n",
       "    };\n",
       "\n",
       "    function maybeLoadScript(lib, version) {\n",
       "      var key = `${lib.replace(\"-\", \"\")}_version`;\n",
       "      return (VEGA_DEBUG[key] == version) ?\n",
       "        Promise.resolve(paths[lib]) :\n",
       "        new Promise(function(resolve, reject) {\n",
       "          var s = document.createElement('script');\n",
       "          document.getElementsByTagName(\"head\")[0].appendChild(s);\n",
       "          s.async = true;\n",
       "          s.onload = () => {\n",
       "            VEGA_DEBUG[key] = version;\n",
       "            return resolve(paths[lib]);\n",
       "          };\n",
       "          s.onerror = () => reject(`Error loading script: ${paths[lib]}`);\n",
       "          s.src = paths[lib];\n",
       "        });\n",
       "    }\n",
       "\n",
       "    function showError(err) {\n",
       "      outputDiv.innerHTML = `<div class=\"error\" style=\"color:red;\">${err}</div>`;\n",
       "      throw err;\n",
       "    }\n",
       "\n",
       "    function displayChart(vegaEmbed) {\n",
       "      vegaEmbed(outputDiv, spec, embedOpt)\n",
       "        .catch(err => showError(`Javascript Error: ${err.message}<br>This usually means there's a typo in your chart specification. See the javascript console for the full traceback.`));\n",
       "    }\n",
       "\n",
       "    if(typeof define === \"function\" && define.amd) {\n",
       "      requirejs.config({paths});\n",
       "      require([\"vega-embed\"], displayChart, err => showError(`Error loading script: ${err.message}`));\n",
       "    } else {\n",
       "      maybeLoadScript(\"vega\", \"5\")\n",
       "        .then(() => maybeLoadScript(\"vega-lite\", \"4.17.0\"))\n",
       "        .then(() => maybeLoadScript(\"vega-embed\", \"6\"))\n",
       "        .catch(showError)\n",
       "        .then(() => displayChart(vegaEmbed));\n",
       "    }\n",
       "  })({\"config\": {\"view\": {\"continuousWidth\": 400, \"continuousHeight\": 300}}, \"data\": {\"name\": \"data-310dface23fcc54bec7edc7cc3e94aa5\"}, \"mark\": \"bar\", \"encoding\": {\"color\": {\"field\": \"Cleanup status\", \"type\": \"nominal\"}, \"column\": {\"field\": \"Level\", \"type\": \"nominal\"}, \"x\": {\"field\": \"Cleanup status\", \"type\": \"nominal\"}, \"y\": {\"field\": \"Value\", \"type\": \"quantitative\"}}, \"title\": \"Annual Value of Ecosystem services by Cleanup status\", \"$schema\": \"https://vega.github.io/schema/vega-lite/v4.17.0.json\", \"datasets\": {\"data-310dface23fcc54bec7edc7cc3e94aa5\": [{\"Cleanup status\": \"With cleanup\", \"Level\": \"Low\", \"Value\": 705209378}, {\"Cleanup status\": \"Without cleanup\", \"Level\": \"Low\", \"Value\": 489883908}, {\"Cleanup status\": \"Benefit of cleanup\", \"Level\": \"Low\", \"Value\": 215325469}, {\"Cleanup status\": \"With cleanup\", \"Level\": \"Mid\", \"Value\": 1416705140}, {\"Cleanup status\": \"Without cleanup\", \"Level\": \"Mid\", \"Value\": 879715684}, {\"Cleanup status\": \"Benefit of cleanup\", \"Level\": \"Mid\", \"Value\": 536989457}, {\"Cleanup status\": \"With cleanup\", \"Level\": \"High\", \"Value\": 2128200903}, {\"Cleanup status\": \"Without cleanup\", \"Level\": \"High\", \"Value\": 1269547459}, {\"Cleanup status\": \"Benefit of cleanup\", \"Level\": \"High\", \"Value\": 858653444}]}}, {\"mode\": \"vega-lite\"});\n",
       "</script>"
      ],
      "text/plain": [
       "alt.Chart(...)"
      ]
     },
     "execution_count": 9,
     "metadata": {},
     "output_type": "execute_result"
    }
   ],
   "source": [
    "#Annual Value of Ecosystem services by Cleanup status\n",
    "#Chart 6\n",
    "\n",
    "alt.Chart(df6).mark_bar().encode(\n",
    "    x='Cleanup status',\n",
    "    y='Value',\n",
    "    color='Cleanup status',\n",
    "    column='Level'\n",
    ").properties(\n",
    "    title='Annual Value of Ecosystem services by Cleanup status'\n",
    ")"
   ]
  },
  {
   "cell_type": "markdown",
   "id": "b2ff12dc",
   "metadata": {},
   "source": [
    "Chart 6 Summary:\n",
    "This chart uses color and position to demonstrate cleanup status, bar length to demonstrate value, and position to demonstrate level. As can be seen in the chart, there is a strong correlation between level and value (the higher the level, the higher the value). Furthermore, this means the higher the level, the greater the benefit of cleanup, although it remains proportional to the height of 'with cleanup'."
   ]
  }
 ],
 "metadata": {
  "kernelspec": {
   "display_name": "Python 3 (ipykernel)",
   "language": "python",
   "name": "python3"
  },
  "language_info": {
   "codemirror_mode": {
    "name": "ipython",
    "version": 3
   },
   "file_extension": ".py",
   "mimetype": "text/x-python",
   "name": "python",
   "nbconvert_exporter": "python",
   "pygments_lexer": "ipython3",
   "version": "3.9.12"
  }
 },
 "nbformat": 4,
 "nbformat_minor": 5
}
